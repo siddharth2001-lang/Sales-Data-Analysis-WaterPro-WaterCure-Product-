{
 "cells": [
  {
   "cell_type": "markdown",
   "id": "19d55b58-b868-48b3-aeb0-8a92388fed98",
   "metadata": {},
   "source": [
    "# Constants\n",
    "ANNUAL_TARGET = 800000\n",
    "<br>\n",
    "UNITS_SOLD_AUGUST = 1000\n",
    "<br>\n",
    "SALES_PER_UNIT = 22.2\n",
    "\n",
    "# Variables\n",
    "past_months_sales = 335220\n",
    "\n",
    "# Functions\n",
    "def calculate_sales_report():\n",
    "  \"\"\"Calculates the August sales report and remaining units needed to meet the annual target.\"\"\"\n",
    "\n",
    "  # Calculate August sales\n",
    "  august_sales = UNITS_SOLD_AUGUST * SALES_PER_UNIT\n",
    "\n",
    "  # Calculate remaining sales target\n",
    "  remaining_target = ANNUAL_TARGET - past_months_sales - august_sales\n",
    "\n",
    "  # Calculate remaining units to be sold\n",
    "  remaining_units = remaining_target // SALES_PER_UNIT\n",
    "\n",
    "  # Print the report\n",
    "  print(\"August Sales Report\")\n",
    "  <br>\n",
    "  print(\"-----------------\")\n",
    "  <br>\n",
    "  print(\"Sales Revenue for August:\", august_sales)\n",
    "  <br>\n",
    "  print(\"Remaining Sales Target:\", remaining_target)\n",
    "  <br>\n",
    "  print(\"Units to be Sold in Remaining Months:\", remaining_units)\n",
    "\n",
    "# Call the function\n",
    "calculate_sales_report()\n",
    "\n",
    "\n"
   ]
  },
  {
   "cell_type": "code",
   "execution_count": 18,
   "id": "53d35601-4100-4f7a-a0c1-2286f8cd655d",
   "metadata": {},
   "outputs": [
    {
     "name": "stdout",
     "output_type": "stream",
     "text": [
      "August Sales Report\n",
      "-----------------\n",
      "Sales Revenue for August: 22200.0\n",
      "Remaining Sales Target: 442580.0\n",
      "Units to be Sold in Remaining Months: 19936\n"
     ]
    }
   ],
   "source": [
    "# Constants\n",
    "ANNUAL_TARGET = 800000\n",
    "UNITS_SOLD_AUGUST = 1000\n",
    "SALES_PER_UNIT = 22.2\n",
    "\n",
    "# Variables\n",
    "past_months_sales = 335220\n",
    "\n",
    "# Functions\n",
    "def calculate_sales_report():\n",
    "    \"\"\"Calculates the August sales report and remaining units needed to meet the annual target.\"\"\"\n",
    "    \n",
    "    # Calculate August sales\n",
    "    august_sales = UNITS_SOLD_AUGUST * SALES_PER_UNIT\n",
    "    \n",
    "    # Calculate total sales revenue so far\n",
    "    total_sales_so_far = past_months_sales + august_sales\n",
    "    \n",
    "    # Calculate remaining sales target\n",
    "    remaining_target = ANNUAL_TARGET - total_sales_so_far\n",
    "    \n",
    "    # Calculate remaining units to be sold\n",
    "    remaining_units = round(remaining_target / SALES_PER_UNIT)  # Round to the nearest whole number\n",
    "    \n",
    "    # Print the report\n",
    "    print(\"August Sales Report\")\n",
    "    print(\"-----------------\")\n",
    "    print(\"Sales Revenue for August:\", august_sales)\n",
    "    print(\"Remaining Sales Target:\", remaining_target)\n",
    "    print(\"Units to be Sold in Remaining Months:\", remaining_units)\n",
    "\n",
    "# Call the function\n",
    "calculate_sales_report()\n",
    "\n"
   ]
  },
  {
   "cell_type": "code",
   "execution_count": null,
   "id": "292e8a8b-fb70-4908-aa1d-7dafee7f498d",
   "metadata": {},
   "outputs": [],
   "source": []
  }
 ],
 "metadata": {
  "kernelspec": {
   "display_name": "Python 3 (ipykernel)",
   "language": "python",
   "name": "python3"
  },
  "language_info": {
   "codemirror_mode": {
    "name": "ipython",
    "version": 3
   },
   "file_extension": ".py",
   "mimetype": "text/x-python",
   "name": "python",
   "nbconvert_exporter": "python",
   "pygments_lexer": "ipython3",
   "version": "3.10.14"
  }
 },
 "nbformat": 4,
 "nbformat_minor": 5
}
