{
  "nbformat": 4,
  "nbformat_minor": 0,
  "metadata": {
    "colab": {
      "provenance": []
    },
    "kernelspec": {
      "name": "python3",
      "display_name": "Python 3"
    },
    "language_info": {
      "name": "python"
    }
  },
  "cells": [
    {
      "cell_type": "markdown",
      "source": [
        "# Sales Analysis for BobaWonder and WaterCure\n",
        "\n",
        "## Background\n",
        "In January 2024, WaterPro introduced two new products, BobaWonder and WaterCure, to the market. Given the competitive nature of the beverage industry, understanding the sales dynamics of these products is crucial for strategic planning and marketing.\n",
        "\n",
        "## Purpose\n",
        "The primary objective of this analysis is to determine if there is a correlation between the sales of BobaWonder and WaterCure. Specifically, we want to explore if high sales in one product correlate to high sales in the other during the same periods. This will help WaterPro in making informed decisions regarding product promotions and resource allocation.\n",
        "\n",
        "## Scenario\n",
        "WaterPro has provided the monthly sales data for both products from their launch in January 2024 up to August 2024. Our task is to analyze this data to find trends, extremes, and correlations that could inform future business strategies.\n"
      ],
      "metadata": {
        "id": "__N1YFqK2pYj"
      }
    },
    {
      "cell_type": "code",
      "source": [
        "import scipy.stats\n",
        "\n",
        "# Task; Data for sales revenue by month\n",
        "boba_wonder_sales = {\n",
        "    'January': 900,\n",
        "    'February': 800,\n",
        "    'March': 639,\n",
        "    'April': 772,\n",
        "    'May': 682,\n",
        "    'June': 635,\n",
        "    'July': 538,\n",
        "    'August': 716\n",
        "}\n",
        "\n",
        "water_cure_sales = {\n",
        "    'January': 890,\n",
        "    'February': 700,\n",
        "    'March': 523,\n",
        "    'April': 612,\n",
        "    'May': 661,\n",
        "    'June': 456,\n",
        "    'July': 435,\n",
        "    'August': 452\n",
        "}\n",
        "\n",
        "# Task: Finding highest and lowest sales for both products\n",
        "def find_extremes(sales_data):\n",
        "    max_sales_month = max(sales_data, key=sales_data.get)\n",
        "    min_sales_month = min(sales_data, key=sales_data.get)\n",
        "    return max_sales_month, min_sales_month\n",
        "\n",
        "# Find the extremes for both products\n",
        "bw_max, bw_min = find_extremes(boba_wonder_sales)\n",
        "wc_max, wc_min = find_extremes(water_cure_sales)\n",
        "\n",
        "print(f\"BobaWonder Highest Sales: {bw_max}, Lowest Sales: {bw_min}\")\n",
        "print(f\"WaterCure Highest Sales: {wc_max}, Lowest Sales: {wc_min}\")"
      ],
      "metadata": {
        "colab": {
          "base_uri": "https://localhost:8080/"
        },
        "id": "_b61MN_d2sNi",
        "outputId": "f40907bc-6aaf-481f-c064-788e7ad1c9f8"
      },
      "execution_count": null,
      "outputs": [
        {
          "output_type": "stream",
          "name": "stdout",
          "text": [
            "BobaWonder Highest Sales: January, Lowest Sales: July\n",
            "WaterCure Highest Sales: January, Lowest Sales: July\n"
          ]
        }
      ]
    },
    {
      "cell_type": "markdown",
      "source": [
        "## Analysis of Sales Extremes\n",
        "\n",
        "The above output shows the months with the highest and lowest sales for both BobaWonder and WaterCure. Identifying these extremes helps in understanding seasonal trends or other external factors that may influence sales. For instance, peaks in sales could align with specific marketing campaigns or seasonal consumer behavior changes.\n",
        "\n",
        "\n"
      ],
      "metadata": {
        "id": "5z47tFEs20n-"
      }
    },
    {
      "cell_type": "code",
      "source": [
        "# Task: Print months where sales revenue is over 750\n",
        "print(\"Months with sales over 750 for BobaWonder:\")\n",
        "for month, sales in boba_wonder_sales.items():\n",
        "    if sales > 750:\n",
        "        print(month)\n",
        "\n",
        "print(\"Months with sales over 750 for WaterCure:\")\n",
        "for month, sales in water_cure_sales.items():\n",
        "    if sales > 750:\n",
        "        print(month)"
      ],
      "metadata": {
        "colab": {
          "base_uri": "https://localhost:8080/"
        },
        "id": "QNAbaaQl3VJJ",
        "outputId": "b5455d7a-9007-4484-d849-2f6812ab9931"
      },
      "execution_count": null,
      "outputs": [
        {
          "output_type": "stream",
          "name": "stdout",
          "text": [
            "Months with sales over 750 for BobaWonder:\n",
            "January\n",
            "February\n",
            "April\n",
            "Months with sales over 750 for WaterCure:\n",
            "January\n"
          ]
        }
      ]
    },
    {
      "cell_type": "markdown",
      "source": [
        "## High-Performing Months\n",
        "\n",
        "The months where sales exceeded $750 are listed above. This information is valuable as it highlights the strongest periods of sales performance for each product. Such months could be further analyzed to determine the drivers behind such high sales figures, aiding in replicating this success in future periods.\n"
      ],
      "metadata": {
        "id": "zLHA9GiH3hrg"
      }
    },
    {
      "cell_type": "code",
      "source": [
        "# Task: Calculate the Pearson correlation coefficient\n",
        "boba_wonder_values = list(boba_wonder_sales.values())\n",
        "water_cure_values = list(water_cure_sales.values())\n",
        "\n",
        "correlation, _ = scipy.stats.pearsonr(boba_wonder_values, water_cure_values)\n",
        "print(f\"Pearson correlation coefficient between BobaWonder and WaterCure sales: {correlation:.2f}\")\n",
        "\n",
        "# Interpretation of the correlation result\n",
        "if correlation > 0.7:\n",
        "    print(\"There is a strong positive correlation between the sales of BobaWonder and WaterCure.\")\n",
        "elif correlation < -0.7:\n",
        "    print(\"There is a strong negative correlation between the sales of BobaWonder and WaterCure.\")\n",
        "else:\n",
        "    print(\"There is no strong correlation between the sales of BobaWonder and WaterCure.\")"
      ],
      "metadata": {
        "colab": {
          "base_uri": "https://localhost:8080/"
        },
        "id": "ydiYc35K3oF5",
        "outputId": "678f1797-803f-4d70-f9f0-b2b15fe9dd96"
      },
      "execution_count": null,
      "outputs": [
        {
          "output_type": "stream",
          "name": "stdout",
          "text": [
            "Pearson correlation coefficient between BobaWonder and WaterCure sales: 0.86\n",
            "There is a strong positive correlation between the sales of BobaWonder and WaterCure.\n"
          ]
        }
      ]
    },
    {
      "cell_type": "markdown",
      "source": [
        "## Correlation Between BobaWonder and WaterCure Sales\n",
        "\n",
        "The Pearson correlation coefficient calculated above quantifies the linear relationship between the sales of BobaWonder and WaterCure. A coefficient close to 1 or -1 indicates a strong positive or negative correlation, respectively, while a value near 0 suggests a weak or no linear relationship.\n",
        "\n",
        "### Interpretation\n",
        "The provided coefficient suggests that:\n",
        "- A strong positive correlation means promotional strategies for one product may benefit the other.\n",
        "- A strong negative correlation could imply that the products are competing for the same market segment.\n",
        "- A weak or no correlation indicates independent sales performances, suggesting varied consumer bases or market dynamics.\n",
        "\n",
        "\n"
      ],
      "metadata": {
        "id": "qm-md5cx3n1t"
      }
    }
  ]
}